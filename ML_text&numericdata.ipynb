{
 "cells": [
  {
   "cell_type": "code",
   "execution_count": 1,
   "id": "88d4d659-6a23-4269-97f4-9767da51d94c",
   "metadata": {},
   "outputs": [],
   "source": [
    "### Import basic packages\n",
    "import numpy as np \n",
    "\n",
    "# data processing\n",
    "import pandas as pd \n",
    "\n",
    "# data visualization\n",
    "import seaborn as sns\n",
    "from matplotlib import pyplot as plt\n",
    "\n",
    "\n",
    "from sklearn.model_selection import train_test_split\n",
    "from collections import Counter\n",
    "from sklearn.feature_extraction.text import TfidfVectorizer\n",
    "\n",
    "\n",
    "# Required prediction modelling libraries are imported\n",
    "from sklearn.linear_model import LogisticRegression\n",
    "from sklearn.ensemble import RandomForestClassifier\n",
    "from sklearn import metrics\n",
    "from sklearn.metrics import confusion_matrix, precision_score, precision_recall_curve, auc, roc_curve, accuracy_score, recall_score, classification_report, f1_score, average_precision_score, precision_recall_fscore_support, roc_auc_score\n",
    "from sklearn.metrics import RocCurveDisplay\n",
    "import xgboost as XGB\n",
    "from sklearn.model_selection import cross_val_score, GridSearchCV, RandomizedSearchCV\n",
    "from sklearn.model_selection import KFold, cross_val_score\n",
    "\n",
    "# learning curve\n",
    "from mlxtend.plotting import plot_learning_curves\n",
    "\n",
    "# Class prediction error\n",
    "from yellowbrick.classifier import ClassPredictionError\n",
    "\n",
    "#feature importance\n",
    "import eli5 as eli\n",
    "from sklearn.inspection import permutation_importance\n",
    "import shap\n",
    "\n",
    "# Hypothesis testing for comparing algorithms: whether the difference between two models is real and not just a statistical fluke\n",
    "from mlxtend.evaluate import paired_ttest_5x2cv"
   ]
  },
  {
   "cell_type": "code",
   "execution_count": 2,
   "id": "c7deda4b-a8af-4963-92df-a28962f15913",
   "metadata": {},
   "outputs": [
    {
     "name": "stdout",
     "output_type": "stream",
     "text": [
      "<class 'pandas.core.frame.DataFrame'>\n",
      "Int64Index: 23472 entries, 0 to 23485\n",
      "Data columns (total 8 columns):\n",
      " #   Column                   Non-Null Count  Dtype \n",
      "---  ------                   --------------  ----- \n",
      " 0   age                      23472 non-null  object\n",
      " 1   rating                   23472 non-null  object\n",
      " 2   positive_feedback_count  23472 non-null  object\n",
      " 3   division                 23472 non-null  object\n",
      " 4   department               23472 non-null  object\n",
      " 5   clothing_class           23472 non-null  object\n",
      " 6   final_text               23472 non-null  object\n",
      " 7   recommended_or_not       23472 non-null  object\n",
      "dtypes: object(8)\n",
      "memory usage: 1.6+ MB\n"
     ]
    }
   ],
   "source": [
    "final_data=pd.read_pickle(\"data_ready_analysis.pkl\")\n",
    "final_data.info()"
   ]
  },
  {
   "cell_type": "code",
   "execution_count": 3,
   "id": "30c72dcd-4b88-4dee-8775-c82c02aa0312",
   "metadata": {},
   "outputs": [
    {
     "name": "stdout",
     "output_type": "stream",
     "text": [
      "<class 'pandas.core.frame.DataFrame'>\n",
      "Int64Index: 23472 entries, 0 to 23485\n",
      "Data columns (total 8 columns):\n",
      " #   Column                   Non-Null Count  Dtype   \n",
      "---  ------                   --------------  -----   \n",
      " 0   age                      23472 non-null  int32   \n",
      " 1   rating                   23472 non-null  int32   \n",
      " 2   positive_feedback_count  23472 non-null  int32   \n",
      " 3   division                 23472 non-null  category\n",
      " 4   department               23472 non-null  category\n",
      " 5   clothing_class           23472 non-null  category\n",
      " 6   final_text               23472 non-null  object  \n",
      " 7   recommended_or_not       23472 non-null  object  \n",
      "dtypes: category(3), int32(3), object(2)\n",
      "memory usage: 895.0+ KB\n"
     ]
    }
   ],
   "source": [
    "# convert data types\n",
    "final_data = final_data.astype({'age': 'int', 'rating': 'int', 'positive_feedback_count':'int', 'division':'category', 'department':'category', 'clothing_class':'category'})\n",
    "final_data.info()"
   ]
  },
  {
   "cell_type": "code",
   "execution_count": 4,
   "id": "4fc86c59-7fa3-49d6-a809-9c9ef5ec013d",
   "metadata": {},
   "outputs": [
    {
     "name": "stdout",
     "output_type": "stream",
     "text": [
      "<class 'pandas.core.frame.DataFrame'>\n",
      "Int64Index: 23472 entries, 0 to 23485\n",
      "Data columns (total 31 columns):\n",
      " #   Column                         Non-Null Count  Dtype \n",
      "---  ------                         --------------  ----- \n",
      " 0   age                            23472 non-null  int32 \n",
      " 1   rating                         23472 non-null  int32 \n",
      " 2   positive_feedback_count        23472 non-null  int32 \n",
      " 3   final_text                     23472 non-null  object\n",
      " 4   recommended_or_not             23472 non-null  object\n",
      " 5   division_general petite        23472 non-null  uint8 \n",
      " 6   division_initmates             23472 non-null  uint8 \n",
      " 7   department_dresses             23472 non-null  uint8 \n",
      " 8   department_intimate            23472 non-null  uint8 \n",
      " 9   department_jackets             23472 non-null  uint8 \n",
      " 10  department_tops                23472 non-null  uint8 \n",
      " 11  department_trend               23472 non-null  uint8 \n",
      " 12  clothing_class_casual bottoms  23472 non-null  uint8 \n",
      " 13  clothing_class_chemises        23472 non-null  uint8 \n",
      " 14  clothing_class_dresses         23472 non-null  uint8 \n",
      " 15  clothing_class_fine gauge      23472 non-null  uint8 \n",
      " 16  clothing_class_intimates       23472 non-null  uint8 \n",
      " 17  clothing_class_jackets         23472 non-null  uint8 \n",
      " 18  clothing_class_jeans           23472 non-null  uint8 \n",
      " 19  clothing_class_knits           23472 non-null  uint8 \n",
      " 20  clothing_class_layering        23472 non-null  uint8 \n",
      " 21  clothing_class_legwear         23472 non-null  uint8 \n",
      " 22  clothing_class_lounge          23472 non-null  uint8 \n",
      " 23  clothing_class_outerwear       23472 non-null  uint8 \n",
      " 24  clothing_class_pants           23472 non-null  uint8 \n",
      " 25  clothing_class_shorts          23472 non-null  uint8 \n",
      " 26  clothing_class_skirts          23472 non-null  uint8 \n",
      " 27  clothing_class_sleep           23472 non-null  uint8 \n",
      " 28  clothing_class_sweaters        23472 non-null  uint8 \n",
      " 29  clothing_class_swim            23472 non-null  uint8 \n",
      " 30  clothing_class_trend           23472 non-null  uint8 \n",
      "dtypes: int32(3), object(2), uint8(26)\n",
      "memory usage: 1.4+ MB\n"
     ]
    }
   ],
   "source": [
    "#final_data.drop(\"clothing_class\", axis=1, inplace=True)\n",
    "final_data = pd.get_dummies(data=final_data, columns=['division', 'department','clothing_class'], drop_first=True)\n",
    "final_data.info()"
   ]
  },
  {
   "cell_type": "code",
   "execution_count": 5,
   "id": "4ef0e786-f8c1-408d-ba72-adbf01002d53",
   "metadata": {},
   "outputs": [
    {
     "name": "stdout",
     "output_type": "stream",
     "text": [
      "<class 'pandas.core.frame.DataFrame'>\n",
      "Int64Index: 23472 entries, 0 to 23485\n",
      "Data columns (total 31 columns):\n",
      " #   Column                         Non-Null Count  Dtype \n",
      "---  ------                         --------------  ----- \n",
      " 0   final_text                     23472 non-null  object\n",
      " 1   recommended_or_not             23472 non-null  object\n",
      " 2   age                            23472 non-null  int32 \n",
      " 3   rating                         23472 non-null  int32 \n",
      " 4   positive_feedback_count        23472 non-null  int32 \n",
      " 5   division_general petite        23472 non-null  uint8 \n",
      " 6   division_initmates             23472 non-null  uint8 \n",
      " 7   department_dresses             23472 non-null  uint8 \n",
      " 8   department_intimate            23472 non-null  uint8 \n",
      " 9   department_jackets             23472 non-null  uint8 \n",
      " 10  department_tops                23472 non-null  uint8 \n",
      " 11  department_trend               23472 non-null  uint8 \n",
      " 12  clothing_class_casual bottoms  23472 non-null  uint8 \n",
      " 13  clothing_class_chemises        23472 non-null  uint8 \n",
      " 14  clothing_class_dresses         23472 non-null  uint8 \n",
      " 15  clothing_class_fine gauge      23472 non-null  uint8 \n",
      " 16  clothing_class_intimates       23472 non-null  uint8 \n",
      " 17  clothing_class_jackets         23472 non-null  uint8 \n",
      " 18  clothing_class_jeans           23472 non-null  uint8 \n",
      " 19  clothing_class_knits           23472 non-null  uint8 \n",
      " 20  clothing_class_layering        23472 non-null  uint8 \n",
      " 21  clothing_class_legwear         23472 non-null  uint8 \n",
      " 22  clothing_class_lounge          23472 non-null  uint8 \n",
      " 23  clothing_class_outerwear       23472 non-null  uint8 \n",
      " 24  clothing_class_pants           23472 non-null  uint8 \n",
      " 25  clothing_class_shorts          23472 non-null  uint8 \n",
      " 26  clothing_class_skirts          23472 non-null  uint8 \n",
      " 27  clothing_class_sleep           23472 non-null  uint8 \n",
      " 28  clothing_class_sweaters        23472 non-null  uint8 \n",
      " 29  clothing_class_swim            23472 non-null  uint8 \n",
      " 30  clothing_class_trend           23472 non-null  uint8 \n",
      "dtypes: int32(3), object(2), uint8(26)\n",
      "memory usage: 1.4+ MB\n"
     ]
    }
   ],
   "source": [
    "final_data=final_data.iloc[:, [3,4,0,1,2,5,6,7,8,9,10,11,12,13,14,15,16,17,18,19,20,21,22,23,24,25,26,27,28,29,30]]\n",
    "final_data.info()"
   ]
  },
  {
   "cell_type": "code",
   "execution_count": 6,
   "id": "62eed29a-940e-4236-9481-9baad69addfc",
   "metadata": {},
   "outputs": [],
   "source": [
    "X = final_data.drop(columns=['recommended_or_not']).values\n",
    "y = final_data['recommended_or_not'].values"
   ]
  },
  {
   "cell_type": "code",
   "execution_count": 7,
   "id": "89296aa7-9d8c-47ba-a4ad-034c8a308a0d",
   "metadata": {},
   "outputs": [
    {
     "name": "stdout",
     "output_type": "stream",
     "text": [
      "training set: 15726，test set: 7746\n"
     ]
    }
   ],
   "source": [
    "X_train, X_test, y_train, y_test = train_test_split(X,y,test_size=0.33, stratify=y, random_state=501)\n",
    "data_vis=final_data.drop('recommended_or_not', axis=1)\n",
    "print('training set: {0}，test set: {1}'.format(X_train.shape[0], X_test.shape[0]))"
   ]
  },
  {
   "cell_type": "code",
   "execution_count": 8,
   "id": "2b82c8f6-a71a-4081-a9d8-1df6d18a1e89",
   "metadata": {},
   "outputs": [
    {
     "name": "stdout",
     "output_type": "stream",
     "text": [
      "Counter({'1': 12931, '0': 2795})\n",
      "Counter({'1': 6369, '0': 1377})\n"
     ]
    }
   ],
   "source": [
    "print(Counter(y_train))\n",
    "print(Counter(y_test))"
   ]
  },
  {
   "cell_type": "code",
   "execution_count": 9,
   "id": "816176db-9b9f-45aa-89bd-a95f80d9f22a",
   "metadata": {},
   "outputs": [
    {
     "name": "stdout",
     "output_type": "stream",
     "text": [
      "[['must dress dress much better person pictur detail sleev button front show qualiti make origin look dress ive wore yesterday first time receiv compliment buy sell'\n",
      "  45 5 ... 0 0 0]\n",
      " ['purpl floral tee think review say basic tee littl tailor upper back varieti color purchas purpl floral tee local store prettier person websit much vibrant color tt'\n",
      "  60 5 ... 0 0 0]\n",
      " ['worth never buy anyth retail full price get tri local store especi sinc back order long flatter super comfort fulli line see elast waist that hidden sweater top easi throw dress even loung day pool beach look model pic concern arm pit hole came low case'\n",
      "  52 5 ... 0 0 0]\n",
      " ...\n",
      " ['fun top order orang motif short sleevesand got order love littl big want looser top look someth bright fun spring time could wear work nice slack dress jean top meet need sure realli like detail top collarbon area husband love bright cheer take win'\n",
      "  36 5 ... 0 0 0]\n",
      " ['super cute super cute love tie leg fit true size bought sale black mark front receiv call retail great custom servic guarante could return black come wash im stoke'\n",
      "  49 5 ... 0 0 0]\n",
      " ['great chino usual khaki type pant person realli cute interest detail button ankl also quit flatter bag day wear size fit great purchas green color goe well number top dress heel great run around weekend materi soft alway plu overal great purchas'\n",
      "  38 5 ... 0 0 0]]\n"
     ]
    }
   ],
   "source": [
    "print(X_train)"
   ]
  },
  {
   "cell_type": "markdown",
   "id": "3670c6ea-3d3c-4f11-99bf-b064e5c30201",
   "metadata": {},
   "source": [
    "> SMOTE does not work here due to text data. \n",
    "> Oversampling can be defined as adding more copies to the minority class. Oversampling can be a good choice when you don’t have a ton of data to work with.\n",
    "> If I go for traditional random over-sampling method, it may cause overfitting and poor generalization to the test test."
   ]
  },
  {
   "cell_type": "markdown",
   "id": "d3f6bd1e-b6f9-4830-a881-b517570ff1bc",
   "metadata": {},
   "source": [
    "> PREPARING TEXT & NUMERIC DATA FOR THE ANALYSIS\n",
    "> After the train-test split, I converted both X_train and X_test into a dataframe so that I can perform Term Frequency - Inverse Document Frequency - tfidf (convert texts into numbers based on words importance). Please do not forget that the data still includes text, numeric, and categorical features.\n",
    "> Then I take the data with tfidf scores and merge it with the previously created dataframe by dropping text column.\n",
    "> The last step is to transform the new data frame to an array because the ML algorithms work only with array. "
   ]
  },
  {
   "cell_type": "code",
   "execution_count": 10,
   "id": "0a7ebc3a-ad35-46c0-8a62-2a4da0d1cd67",
   "metadata": {},
   "outputs": [
    {
     "name": "stdout",
     "output_type": "stream",
     "text": [
      "<class 'pandas.core.frame.DataFrame'>\n",
      "RangeIndex: 15726 entries, 0 to 15725\n",
      "Data columns (total 30 columns):\n",
      " #   Column                         Non-Null Count  Dtype \n",
      "---  ------                         --------------  ----- \n",
      " 0   final_text                     15726 non-null  object\n",
      " 1   age                            15726 non-null  object\n",
      " 2   rating                         15726 non-null  object\n",
      " 3   positive_feedback_count        15726 non-null  object\n",
      " 4   division_general petite        15726 non-null  object\n",
      " 5   division_initmates             15726 non-null  object\n",
      " 6   department_dresses             15726 non-null  object\n",
      " 7   department_intimate            15726 non-null  object\n",
      " 8   department_jackets             15726 non-null  object\n",
      " 9   department_tops                15726 non-null  object\n",
      " 10  department_trend               15726 non-null  object\n",
      " 11  clothing_class_casual bottoms  15726 non-null  object\n",
      " 12  clothing_class_chemises        15726 non-null  object\n",
      " 13   clothing_class_dresses        15726 non-null  object\n",
      " 14  clothing_class_fine gauge      15726 non-null  object\n",
      " 15  clothing_class_intimates       15726 non-null  object\n",
      " 16  clothing_class_jackets         15726 non-null  object\n",
      " 17  clothing_class_jeans           15726 non-null  object\n",
      " 18  clothing_class_knits           15726 non-null  object\n",
      " 19  clothing_class_layering        15726 non-null  object\n",
      " 20  clothing_class_legwear         15726 non-null  object\n",
      " 21  clothing_class_lounge          15726 non-null  object\n",
      " 22  clothing_class_outwear         15726 non-null  object\n",
      " 23  clothing_class_pants           15726 non-null  object\n",
      " 24  clothing_class_shorts          15726 non-null  object\n",
      " 25  clothing_class_skirts          15726 non-null  object\n",
      " 26  clothing_class_sleep           15726 non-null  object\n",
      " 27  clothing_class_sweaters        15726 non-null  object\n",
      " 28  clothing_class_swim            15726 non-null  object\n",
      " 29  clothing_class_trend           15726 non-null  object\n",
      "dtypes: object(30)\n",
      "memory usage: 3.6+ MB\n"
     ]
    }
   ],
   "source": [
    "X_train_dframe=pd.DataFrame(X_train, columns = ['final_text','age','rating','positive_feedback_count','division_general petite','division_initmates','department_dresses','department_intimate','department_jackets','department_tops','department_trend','clothing_class_casual bottoms','clothing_class_chemises',' clothing_class_dresses','clothing_class_fine gauge','clothing_class_intimates','clothing_class_jackets','clothing_class_jeans','clothing_class_knits','clothing_class_layering','clothing_class_legwear','clothing_class_lounge','clothing_class_outwear','clothing_class_pants','clothing_class_shorts','clothing_class_skirts','clothing_class_sleep','clothing_class_sweaters','clothing_class_swim','clothing_class_trend'])\n",
    "X_train_dframe.info()"
   ]
  },
  {
   "cell_type": "code",
   "execution_count": 11,
   "id": "c3f24547-367e-4359-9acf-807a81ad85f2",
   "metadata": {},
   "outputs": [],
   "source": [
    "col = 'final_text'\n",
    "b2 = X_train_dframe[col][0]\n",
    "model = TfidfVectorizer(analyzer='word').fit(X_train_dframe[col])\n",
    "def myfunction(b2):\n",
    "    mtx = model.transform([b2])\n",
    "    return pd.Series(mtx.toarray().flatten())"
   ]
  },
  {
   "cell_type": "code",
   "execution_count": 12,
   "id": "5cf530e2-4fd6-4cfe-84b7-bd3eac5d3c69",
   "metadata": {},
   "outputs": [],
   "source": [
    "tmpx= X_train_dframe[col].apply(myfunction)\n",
    "tmpx.columns = model.get_feature_names_out()"
   ]
  },
  {
   "cell_type": "code",
   "execution_count": 13,
   "id": "10f570eb-994a-46f9-bc9a-fae41d5014f5",
   "metadata": {},
   "outputs": [
    {
     "name": "stdout",
     "output_type": "stream",
     "text": [
      "<class 'pandas.core.frame.DataFrame'>\n",
      "RangeIndex: 15726 entries, 0 to 15725\n",
      "Columns: 11629 entries, age_x to zuma\n",
      "dtypes: float64(11600), object(29)\n",
      "memory usage: 1.4+ GB\n"
     ]
    }
   ],
   "source": [
    "result = pd.merge(X_train_dframe, tmpx, left_index=True, right_index=True)\n",
    "result = result.drop(['final_text'], axis=1)\n",
    "result.info()"
   ]
  },
  {
   "cell_type": "code",
   "execution_count": 14,
   "id": "5f29ee98-4be6-4af5-b013-4d7ae697ee76",
   "metadata": {},
   "outputs": [
    {
     "data": {
      "text/plain": [
       "(15726, 11629)"
      ]
     },
     "execution_count": 14,
     "metadata": {},
     "output_type": "execute_result"
    }
   ],
   "source": [
    "X_train_final=result.to_numpy()\n",
    "X_train_final.shape"
   ]
  },
  {
   "cell_type": "code",
   "execution_count": 15,
   "id": "37a798fa-c464-449e-b07c-e85ea139029c",
   "metadata": {},
   "outputs": [
    {
     "name": "stdout",
     "output_type": "stream",
     "text": [
      "<class 'pandas.core.frame.DataFrame'>\n",
      "RangeIndex: 7746 entries, 0 to 7745\n",
      "Data columns (total 30 columns):\n",
      " #   Column                         Non-Null Count  Dtype \n",
      "---  ------                         --------------  ----- \n",
      " 0   final_text                     7746 non-null   object\n",
      " 1   age                            7746 non-null   object\n",
      " 2   rating                         7746 non-null   object\n",
      " 3   positive_feedback_count        7746 non-null   object\n",
      " 4   division_general petite        7746 non-null   object\n",
      " 5   division_initmates             7746 non-null   object\n",
      " 6   department_dresses             7746 non-null   object\n",
      " 7   department_intimate            7746 non-null   object\n",
      " 8   department_jackets             7746 non-null   object\n",
      " 9   department_tops                7746 non-null   object\n",
      " 10  department_trend               7746 non-null   object\n",
      " 11  clothing_class_casual bottoms  7746 non-null   object\n",
      " 12  clothing_class_chemises        7746 non-null   object\n",
      " 13   clothing_class_dresses        7746 non-null   object\n",
      " 14  clothing_class_fine gauge      7746 non-null   object\n",
      " 15  clothing_class_intimates       7746 non-null   object\n",
      " 16  clothing_class_jackets         7746 non-null   object\n",
      " 17  clothing_class_jeans           7746 non-null   object\n",
      " 18  clothing_class_knits           7746 non-null   object\n",
      " 19  clothing_class_layering        7746 non-null   object\n",
      " 20  clothing_class_legwear         7746 non-null   object\n",
      " 21  clothing_class_lounge          7746 non-null   object\n",
      " 22  clothing_class_outwear         7746 non-null   object\n",
      " 23  clothing_class_pants           7746 non-null   object\n",
      " 24  clothing_class_shorts          7746 non-null   object\n",
      " 25  clothing_class_skirts          7746 non-null   object\n",
      " 26  clothing_class_sleep           7746 non-null   object\n",
      " 27  clothing_class_sweaters        7746 non-null   object\n",
      " 28  clothing_class_swim            7746 non-null   object\n",
      " 29  clothing_class_trend           7746 non-null   object\n",
      "dtypes: object(30)\n",
      "memory usage: 1.8+ MB\n"
     ]
    }
   ],
   "source": [
    "## For the text data\n",
    "X_test_dframe=pd.DataFrame(X_test, columns = ['final_text','age','rating','positive_feedback_count','division_general petite','division_initmates','department_dresses','department_intimate','department_jackets','department_tops','department_trend','clothing_class_casual bottoms','clothing_class_chemises',' clothing_class_dresses','clothing_class_fine gauge','clothing_class_intimates','clothing_class_jackets','clothing_class_jeans','clothing_class_knits','clothing_class_layering','clothing_class_legwear','clothing_class_lounge','clothing_class_outwear','clothing_class_pants','clothing_class_shorts','clothing_class_skirts','clothing_class_sleep','clothing_class_sweaters','clothing_class_swim','clothing_class_trend'])"
   ]
  },
  {
   "cell_type": "code",
   "execution_count": 16,
   "id": "f92b5656-07ec-4241-bec8-cd22615b3bc8",
   "metadata": {},
   "outputs": [],
   "source": [
    "vd= X_test_dframe[col].apply(myfunction)\n",
    "vd.columns = model.get_feature_names_out()"
   ]
  },
  {
   "cell_type": "code",
   "execution_count": 18,
   "id": "018d1891-7019-4926-9de7-58f3e11ee221",
   "metadata": {},
   "outputs": [
    {
     "name": "stdout",
     "output_type": "stream",
     "text": [
      "<class 'pandas.core.frame.DataFrame'>\n",
      "RangeIndex: 7746 entries, 0 to 7745\n",
      "Columns: 11629 entries, age_x to zuma\n",
      "dtypes: float64(11600), object(29)\n",
      "memory usage: 687.2+ MB\n"
     ]
    }
   ],
   "source": [
    "result_2 = pd.merge(X_test_dframe, vd, left_index=True, right_index=True)\n",
    "result_2 = result_2.drop(['final_text'], axis=1)\n",
    "result_2.info()"
   ]
  },
  {
   "cell_type": "code",
   "execution_count": 19,
   "id": "a02bbd1f-22c5-47bb-9391-dfc33676c3a1",
   "metadata": {},
   "outputs": [
    {
     "data": {
      "text/plain": [
       "(7746, 11629)"
      ]
     },
     "execution_count": 19,
     "metadata": {},
     "output_type": "execute_result"
    }
   ],
   "source": [
    "X_test_final=result_2.to_numpy()\n",
    "X_test_final.shape"
   ]
  },
  {
   "cell_type": "markdown",
   "id": "c19bf42d-af86-4c27-a5b0-a225de9ab332",
   "metadata": {},
   "source": [
    "#### MACHINE LEARNING MODELS"
   ]
  },
  {
   "cell_type": "code",
   "execution_count": null,
   "id": "713fd3f2-6081-4a40-88d4-1a5ba9bd2cd5",
   "metadata": {},
   "outputs": [
    {
     "name": "stdout",
     "output_type": "stream",
     "text": [
      "[[1316   61]\n",
      " [ 436 5933]] : is the confusion matrix \n",
      "\n",
      "0.9358378517944745 : is the accuracy score \n",
      "\n",
      "0.9759464900851333 : is the roc score \n",
      "\n"
     ]
    },
    {
     "data": {
      "image/png": "[encoded data removed]",
      "text/plain": [
       "<Figure size 432x288 with 1 Axes>"
      ]
     },
     "metadata": {
      "needs_background": "light"
     },
     "output_type": "display_data"
    }
   ],
   "source": [
    "# Logistic Regression\n",
    "lr_bestmodel=LogisticRegression(C=0.1, class_weight='balanced',max_iter=100, penalty='l2', solver='liblinear', random_state=502)\n",
    "lr_bestmodel.fit(X_train_final,y_train)\n",
    "y_bestpred=lr_bestmodel.predict(X_test_final)\n",
    "print(confusion_matrix(y_test, y_bestpred), \": is the confusion matrix \\n\")\n",
    "print(accuracy_score(y_test, y_bestpred), \": is the accuracy score \\n\")\n",
    "print(roc_auc_score(y_test, lr_bestmodel.predict_proba(X_test_final)[:, 1]), \": is the roc score \\n\")\n",
    "lr_accuracy=lr_bestmodel.score(X_test_final,y_test)*100\n",
    "lr_accuracy=lr_accuracy.round(decimals=2)\n",
    "lr_disp = RocCurveDisplay.from_estimator(lr_bestmodel, X_test_final, y_test)"
   ]
  },
  {
   "cell_type": "code",
   "execution_count": null,
   "id": "703bb75e-1104-41ff-b247-10c956dd6b53",
   "metadata": {},
   "outputs": [
    {
     "name": "stdout",
     "output_type": "stream",
     "text": [
      "Train Accuracy: 93.5902327355971%\n",
      "Test Accuracy: 93.58378517944746%\n"
     ]
    }
   ],
   "source": [
    "print(f'Train Accuracy: {lr_bestmodel.score(X_train_final,y_train)*100}%')\n",
    "print(f'Test Accuracy: {lr_bestmodel.score(X_test_final,y_test)*100}%')"
   ]
  },
  {
   "cell_type": "code",
   "execution_count": null,
   "id": "035324b4-8bec-4bf5-8b6a-2c0265f5062f",
   "metadata": {},
   "outputs": [
    {
     "data": {
      "image/png": "[encoded data removed]",
      "text/plain": [
       "<Figure size 640x480 with 1 Axes>"
      ]
     },
     "metadata": {},
     "output_type": "display_data"
    }
   ],
   "source": [
    "plot_learning_curves(X_train_final, y_train, X_test_final, y_test, lr_bestmodel)\n",
    "plt.show()"
   ]
  },
  {
   "cell_type": "markdown",
   "id": "56035ef5-2bad-4d6a-b128-d7968a8cf90f",
   "metadata": {},
   "source": [
    "> SHORT_CUT MODELS\n",
    "> the following functions were taken from the following website: https://www.kaggle.com/code/legendsoul/complaint-analysis-of-e-commerce-reviews. "
   ]
  },
  {
   "cell_type": "code",
   "execution_count": 20,
   "id": "39368bfc-ec87-49d2-85e0-0fa2097fa867",
   "metadata": {},
   "outputs": [
    {
     "name": "stdout",
     "output_type": "stream",
     "text": [
      "Logistic Regression trained.\n",
      "Random Forest trained.\n"
     ]
    },
    {
     "name": "stderr",
     "output_type": "stream",
     "text": [
      "The use of label encoder in XGBClassifier is deprecated and will be removed in a future release. To remove this warning, do the following: 1) Pass option use_label_encoder=False when constructing XGBClassifier object; and 2) Encode your labels (y) as integers starting with 0, i.e. 0, 1, 2, ..., [num_class - 1].\n"
     ]
    },
    {
     "name": "stdout",
     "output_type": "stream",
     "text": [
      "[17:03:28] WARNING: C:/Users/Administrator/workspace/xgboost-win64_release_1.5.1/src/learner.cc:1115: Starting in XGBoost 1.3.0, the default evaluation metric used with the objective 'binary:logistic' was changed from 'error' to 'logloss'. Explicitly set eval_metric if you'd like to restore the old behavior.\n",
      "XgBoost Classifier trained.\n"
     ]
    }
   ],
   "source": [
    "original_models = {\n",
    "    \"Logistic Regression\": LogisticRegression(C=1.0, class_weight=None, dual=False, fit_intercept=True,\n",
    "                   intercept_scaling=1, l1_ratio=None, max_iter=100,\n",
    "                   multi_class='auto', n_jobs=-1, penalty='l2',\n",
    "                   random_state=0, solver='lbfgs', tol=0.0001, verbose=0,\n",
    "                   warm_start=False),\n",
    "    \"Random Forest\": RandomForestClassifier(max_depth=50, min_samples_split=25, criterion = 'entropy',  n_jobs=-1, random_state=606),\n",
    "    \"XgBoost Classifier\": XGB.XGBClassifier(max_depth = 5, learning_rate= 0.2, n_jobs=-1, n_estimators =  600),\n",
    "}\n",
    "\n",
    "for name, model in original_models.items():\n",
    "  model.fit(X_train_final, y_train)\n",
    "  print(name + ' trained.')"
   ]
  },
  {
   "cell_type": "code",
   "execution_count": 21,
   "id": "0e7fbd99-5413-4a45-92f4-9944ef7e22ca",
   "metadata": {},
   "outputs": [
    {
     "name": "stdout",
     "output_type": "stream",
     "text": [
      "\n",
      "  __________________________Logistic Regression__________________________\n",
      "  \n",
      "[[1203  174]\n",
      " [ 283 6086]]\n",
      "              precision    recall  f1-score   support\n",
      "\n",
      "           0       0.81      0.87      0.84      1377\n",
      "           1       0.97      0.96      0.96      6369\n",
      "\n",
      "    accuracy                           0.94      7746\n",
      "   macro avg       0.89      0.91      0.90      7746\n",
      "weighted avg       0.94      0.94      0.94      7746\n",
      "\n",
      "Logistic Regression: 94.10018%\n",
      "\n",
      "  __________________________Random Forest__________________________\n",
      "  \n",
      "[[ 549  828]\n",
      " [  56 6313]]\n",
      "              precision    recall  f1-score   support\n",
      "\n",
      "           0       0.91      0.40      0.55      1377\n",
      "           1       0.88      0.99      0.93      6369\n",
      "\n",
      "    accuracy                           0.89      7746\n",
      "   macro avg       0.90      0.69      0.74      7746\n",
      "weighted avg       0.89      0.89      0.87      7746\n",
      "\n",
      "Random Forest: 88.58766%\n",
      "\n",
      "  __________________________XgBoost Classifier__________________________\n",
      "  \n",
      "[[1161  216]\n",
      " [ 247 6122]]\n",
      "              precision    recall  f1-score   support\n",
      "\n",
      "           0       0.82      0.84      0.83      1377\n",
      "           1       0.97      0.96      0.96      6369\n",
      "\n",
      "    accuracy                           0.94      7746\n",
      "   macro avg       0.90      0.90      0.90      7746\n",
      "weighted avg       0.94      0.94      0.94      7746\n",
      "\n",
      "XgBoost Classifier: 94.02272%\n"
     ]
    }
   ],
   "source": [
    "original_results = []\n",
    "data = []\n",
    "columns = [\"Accuracy\", \"Precision\", \"Recall\", \"F1-Score\"]\n",
    "\n",
    "for name, model in original_models.items():\n",
    "  result = model.score(X_test_final, y_test)\n",
    "  original_results.append(result)\n",
    "\n",
    "  print(\"\"\"\n",
    "  __________________________\"\"\"+name+\"\"\"__________________________\n",
    "  \"\"\")\n",
    "\n",
    "  model = original_models[name]\n",
    "  y_test_pred = model.predict(X_test_final)\n",
    "  arg_test = {'y_true':y_test, 'y_pred':y_test_pred}\n",
    "  \n",
    "  accuracy = model.score(X_test_final, y_test)\n",
    "  precision = metrics.precision_score(y_test, y_test_pred, average='macro')\n",
    "  recall = metrics.recall_score(y_test, y_test_pred, average='macro')\n",
    "  f1_score = metrics.f1_score(y_test_pred, y_test, average='macro')\n",
    "\n",
    "  values = [accuracy, precision, recall, f1_score]\n",
    "  zipped = zip(columns, values)\n",
    "  a_dictionary = dict(zipped)\n",
    "  ##print(a_dictionary)\n",
    "  data.append(a_dictionary)\n",
    "\n",
    "  print(confusion_matrix(**arg_test))\n",
    "  print(classification_report(**arg_test))\n",
    "\n",
    "  print(name + ': {:.5f}%'.format(result * 100))"
   ]
  },
  {
   "cell_type": "code",
   "execution_count": 22,
   "id": "c3678379-50fb-4360-83cf-a6c5589a8dae",
   "metadata": {},
   "outputs": [
    {
     "data": {
      "image/png": "[encoded data removed]",
      "text/plain": [
       "<Figure size 2160x1296 with 6 Axes>"
      ]
     },
     "metadata": {},
     "output_type": "display_data"
    }
   ],
   "source": [
    "# Plotting confusion matrix for each classifier\n",
    "\n",
    "a = 3  # number of rows\n",
    "b = 4  # number of columns\n",
    "c = 1  # initialize plot counter\n",
    "\n",
    "fig = plt.figure(figsize=(30, 18))\n",
    "\n",
    "for name, model in original_models.items():\n",
    "    original_results = model.score(X_test_final, y_test)\n",
    "    model = original_models[name]\n",
    "    y_test_pred = model.predict(X_test_final)\n",
    "    arg_test = {'y_true':y_test, 'y_pred':y_test_pred}\n",
    "\n",
    "    conf_mx0 = confusion_matrix(y_test, y_test_pred)\n",
    "\n",
    "    heat_cm0 = pd.DataFrame(conf_mx0, columns=np.unique(y_test), index = np.unique(y_test))\n",
    "    heat_cm0.index.name = 'Actual'\n",
    "    heat_cm0.columns.name = 'Predicted'\n",
    "\n",
    "    plt.subplot(a, b, c)\n",
    "    #plt.title(name)\n",
    "    fig.subplots_adjust(left=None, bottom=None, right= None, top=None, wspace=0.4, hspace= 0.4)\n",
    "    sns.heatmap(heat_cm0, annot=True, fmt='.2f', square=True, annot_kws={\"size\": 16}, cmap = 'Purples').set_title(name, fontsize = 20)\n",
    "    c = c + 1\n",
    "\n",
    "    plt.savefig('ConfusionMatrices.png')\n",
    "plt.show()"
   ]
  },
  {
   "cell_type": "code",
   "execution_count": 24,
   "id": "10fd44ec-d42d-4746-b3ec-c09a1335cd3a",
   "metadata": {},
   "outputs": [
    {
     "data": {
      "text/html": [
       "<div>\n",
       "<style scoped>\n",
       "    .dataframe tbody tr th:only-of-type {\n",
       "        vertical-align: middle;\n",
       "    }\n",
       "\n",
       "    .dataframe tbody tr th {\n",
       "        vertical-align: top;\n",
       "    }\n",
       "\n",
       "    .dataframe thead th {\n",
       "        text-align: right;\n",
       "    }\n",
       "</style>\n",
       "<table border=\"1\" class=\"dataframe\">\n",
       "  <thead>\n",
       "    <tr style=\"text-align: right;\">\n",
       "      <th></th>\n",
       "      <th>Accuracy</th>\n",
       "      <th>Precision</th>\n",
       "      <th>Recall</th>\n",
       "      <th>F1-Score</th>\n",
       "    </tr>\n",
       "  </thead>\n",
       "  <tbody>\n",
       "    <tr>\n",
       "      <th>Logistic Regression</th>\n",
       "      <td>0.941002</td>\n",
       "      <td>0.890880</td>\n",
       "      <td>0.914602</td>\n",
       "      <td>0.902095</td>\n",
       "    </tr>\n",
       "    <tr>\n",
       "      <th>Random Forest</th>\n",
       "      <td>0.885877</td>\n",
       "      <td>0.895744</td>\n",
       "      <td>0.694950</td>\n",
       "      <td>0.744276</td>\n",
       "    </tr>\n",
       "    <tr>\n",
       "      <th>XgBoost Classifier</th>\n",
       "      <td>0.940227</td>\n",
       "      <td>0.895247</td>\n",
       "      <td>0.902178</td>\n",
       "      <td>0.898658</td>\n",
       "    </tr>\n",
       "  </tbody>\n",
       "</table>\n",
       "</div>"
      ],
      "text/plain": [
       "                     Accuracy  Precision    Recall  F1-Score\n",
       "Logistic Regression  0.941002   0.890880  0.914602  0.902095\n",
       "Random Forest        0.885877   0.895744  0.694950  0.744276\n",
       "XgBoost Classifier   0.940227   0.895247  0.902178  0.898658"
      ]
     },
     "execution_count": 24,
     "metadata": {},
     "output_type": "execute_result"
    }
   ],
   "source": [
    "performance = pd.DataFrame()\n",
    "performance.reindex(columns=[*performance.columns.tolist(), \"Accuracy\", \"Precision\", \"Recall\", \"F1-Score\"], fill_value = 0)\n",
    "\n",
    "keys = list(original_models.keys())\n",
    "performance_measures = performance.append(data, True)\n",
    "performance_measures.set_axis([keys], axis='index')"
   ]
  },
  {
   "cell_type": "code",
   "execution_count": null,
   "id": "d8339d3f-ca07-4f02-8dd0-8f7e4d565e67",
   "metadata": {},
   "outputs": [],
   "source": [
    "# This dataset is used many times for demonstrating how to work with text data in Machine Learning; however, the example algorithms predict the target feature only by text data. In this project, I employed all the available data including numeric, categorical and text data.\n",
    "# The numeric features contribute to the prediction accuracy around 5% in Logistic Regression, 7% in Random Forest, and 6% in XGBoost."
   ]
  },
  {
   "cell_type": "markdown",
   "id": "b23b10e3-e626-4967-8a8e-0ac815e98531",
   "metadata": {},
   "source": [
    "> Why did Random Forest perform so terribly? Here are some of the possible explanations:\n",
    "\n",
    "> Maybe during the bootstrapping, some observations were not included into the samples. \n",
    "> Well, maybe the depth of Trees were set to a very large number, which can be way too big for the size of the training set. That will overfit.\n",
    "> there is one feature that an importance that is out of proportion compared to the rest.\n",
    "> the number of columns > the number of observations in the training set - boosting helps with that but bootstrapping algorithms may perform worse under this condition. "
   ]
  }
 ],
 "metadata": {
  "kernelspec": {
   "display_name": "Python 3 (ipykernel)",
   "language": "python",
   "name": "python3"
  },
  "language_info": {
   "codemirror_mode": {
    "name": "ipython",
    "version": 3
   },
   "file_extension": ".py",
   "mimetype": "text/x-python",
   "name": "python",
   "nbconvert_exporter": "python",
   "pygments_lexer": "ipython3",
   "version": "3.9.7"
  }
 },
 "nbformat": 4,
 "nbformat_minor": 5
}
